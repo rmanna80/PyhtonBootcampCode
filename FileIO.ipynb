{
 "cells": [
  {
   "cell_type": "code",
   "execution_count": 9,
   "metadata": {},
   "outputs": [],
   "source": [
    "from collections import Counter"
   ]
  },
  {
   "cell_type": "code",
   "execution_count": 10,
   "metadata": {},
   "outputs": [
    {
     "name": "stdout",
     "output_type": "stream",
     "text": [
      "cat: 2\n",
      "dog: 2\n",
      "elephant: 2\n",
      "lion: 1\n",
      "tiger: 2\n",
      "bear: 2\n",
      "giraffe: 1\n",
      "kangaroo: 2\n",
      "gorilla: 2\n",
      "whale: 1\n",
      "dolphin: 2\n",
      "panda: 2\n"
     ]
    }
   ],
   "source": [
    "# Read in the animals file and find the (count) word occurances \n",
    "def count_words(filename):\n",
    "    try:\n",
    "        with open(filename, 'r') as file:\n",
    "            words = file.read().lower().split()\n",
    "            word_count = Counter(words)\n",
    "\n",
    "        for word, count in word_count.items():\n",
    "            print(f\"{word}: {count}\")\n",
    "    except FileNotFoundError:\n",
    "        print(f\" There is an Error: the file {filename} was not found\")\n",
    "    except Exception as e:\n",
    "        print(f\"An error occured: {e}\") \n",
    "count_words('animals.txt')\n"
   ]
  },
  {
   "cell_type": "code",
   "execution_count": null,
   "metadata": {},
   "outputs": [],
   "source": []
  }
 ],
 "metadata": {
  "kernelspec": {
   "display_name": "base",
   "language": "python",
   "name": "python3"
  },
  "language_info": {
   "codemirror_mode": {
    "name": "ipython",
    "version": 3
   },
   "file_extension": ".py",
   "mimetype": "text/x-python",
   "name": "python",
   "nbconvert_exporter": "python",
   "pygments_lexer": "ipython3",
   "version": "3.11.7"
  }
 },
 "nbformat": 4,
 "nbformat_minor": 2
}
